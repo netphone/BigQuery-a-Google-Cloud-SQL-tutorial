{
 "cells": [
  {
   "cell_type": "markdown",
   "metadata": {
    "_uuid": "3f736b7e4ba76b07effb758e292aeab4f4b7abe2"
   },
   "source": [
    "*First, we have to added a BigQuery package to our kernel and imported the helper package, and the next step is to create a BigQueryHelper object that points to a specific dataset.*"
   ]
  },
  {
   "cell_type": "code",
   "execution_count": 4,
   "metadata": {
    "_uuid": "c9371e51f467c7e7b1d786c527b1f0449b62bc6f",
    "collapsed": true
   },
   "outputs": [],
   "source": [
    "# import bq_helper package\n",
    "import bq_helper"
   ]
  },
  {
   "cell_type": "markdown",
   "metadata": {
    "_uuid": "0c122697165eeeb187d1a894bae28111ff10d756"
   },
   "source": [
    "*The first thing is to know what the specific dataset is. You can find this by checking out the dataset listing for your dataset.  For example, the dataset this notebook uses is* **bigquery-public-data.bitcoin_blockchain**, *and the address of BigQuery datasets look like:*\n",
    "![image.png](11gdKx.png) \n",
    "\n",
    "*This info above has to be passed into* **BigQueryHelper** *to create a helper object. <br> The active_project argument takes the BigQuery info, which is currently \"*bigquery-public-data*\". The dataset_name argument takes the name of the dataset we've added to our query, which is \"*bitcoin_blockchain*\" in this case . Thus, we can create a *BigQueryHelper* object as below:*"
   ]
  },
  {
   "cell_type": "code",
   "execution_count": 9,
   "metadata": {
    "_uuid": "cd0a98a0bc239d30399350a493f56ad74a6837db",
    "collapsed": true
   },
   "outputs": [],
   "source": [
    "# create a helper object for our bigquery dataset\n",
    "bitcoin_blockchain = bq_helper.BigQueryHelper(active_project= \"bigquery-public-data\", \n",
    "                                       dataset_name = \"bitcoin_blockchain\")"
   ]
  },
  {
   "cell_type": "markdown",
   "metadata": {
    "_uuid": "5be95a76b3e67716bda4491a3b06aa24aa0b3b66"
   },
   "source": [
    "* ###  Examine the dataset structure\n",
    "*Like with any new dataset, it is alway good to check out the way that the data is structured. <br>\n",
    "Accessing the infomation in the schema, which is a description of how data is organized  within a dataset, is very helpful.  Anyhow, we can use * **BigQueryHelper.list_tables()** * method to list all the files in the dataset.*"
   ]
  },
  {
   "cell_type": "code",
   "execution_count": 11,
   "metadata": {
    "_uuid": "d2016942a4e1239301886dccab32ccd03c474fb3"
   },
   "outputs": [
    {
     "data": {
      "text/plain": [
       "['blocks', 'transactions']"
      ]
     },
     "execution_count": 11,
     "metadata": {},
     "output_type": "execute_result"
    }
   ],
   "source": [
    "# print a list of all the tables in the bitcoin_blockchain dataset\n",
    "bitcoin_blockchain.list_tables()"
   ]
  },
  {
   "cell_type": "markdown",
   "metadata": {
    "_uuid": "cb655e10fc4e8797920d50aa1f572108d37b8dab"
   },
   "source": [
    "*As the tables in the dataset shown, we can obtain information on the columns in a specific table*"
   ]
  },
  {
   "cell_type": "code",
   "execution_count": 12,
   "metadata": {
    "_uuid": "8f1f4aa4e418c692ae146a1297b9c59c22e7e92f"
   },
   "outputs": [
    {
     "data": {
      "text/plain": [
       "[SchemaField('block_id', 'string', 'NULLABLE', None, ()),\n",
       " SchemaField('previous_block', 'string', 'NULLABLE', None, ()),\n",
       " SchemaField('merkle_root', 'string', 'NULLABLE', None, ()),\n",
       " SchemaField('timestamp', 'integer', 'NULLABLE', None, ()),\n",
       " SchemaField('difficultyTarget', 'integer', 'NULLABLE', None, ()),\n",
       " SchemaField('nonce', 'integer', 'NULLABLE', None, ()),\n",
       " SchemaField('version', 'integer', 'NULLABLE', None, ()),\n",
       " SchemaField('work_terahash', 'integer', 'NULLABLE', None, ()),\n",
       " SchemaField('work_error', 'string', 'NULLABLE', None, ()),\n",
       " SchemaField('transactions', 'record', 'REPEATED', None, (SchemaField('transaction_id', 'string', 'NULLABLE', None, ()), SchemaField('inputs', 'record', 'REPEATED', None, (SchemaField('input_script_bytes', 'bytes', 'NULLABLE', None, ()), SchemaField('input_script_string', 'string', 'NULLABLE', None, ()), SchemaField('input_script_string_error', 'string', 'NULLABLE', None, ()), SchemaField('input_sequence_number', 'integer', 'NULLABLE', None, ()), SchemaField('input_pubkey_base58', 'string', 'NULLABLE', None, ()), SchemaField('input_pubkey_base58_error', 'string', 'NULLABLE', None, ()))), SchemaField('outputs', 'record', 'REPEATED', None, (SchemaField('output_satoshis', 'integer', 'NULLABLE', None, ()), SchemaField('output_script_bytes', 'bytes', 'NULLABLE', None, ()), SchemaField('output_script_string', 'string', 'NULLABLE', None, ()), SchemaField('output_script_string_error', 'string', 'NULLABLE', None, ()), SchemaField('output_pubkey_base58', 'string', 'NULLABLE', None, ()), SchemaField('output_pubkey_base58_error', 'string', 'NULLABLE', None, ()))))),\n",
       " SchemaField('row_number', 'integer', 'NULLABLE', None, ())]"
      ]
     },
     "execution_count": 12,
     "metadata": {},
     "output_type": "execute_result"
    }
   ],
   "source": [
    "# print information on all the columns in the \"blocks\" table in the bitcoin_blockchain dataset\n",
    "bitcoin_blockchain.table_schema(\"blocks\")"
   ]
  },
  {
   "cell_type": "markdown",
   "metadata": {
    "_uuid": "51b29f95e816dba06e45d7654635fafb2bf9f5c4"
   },
   "source": [
    "*Each SchemaField describes a specific column, which is listed in order: * <br>\n",
    "* The name of the column\n",
    "* The datatype in the column\n",
    "* The mode of the column (NULLABLE means that a column allows NULL values, and is the default)\n",
    "* A description of the data in that column"
   ]
  },
  {
   "cell_type": "markdown",
   "metadata": {
    "_uuid": "9b02b14046246c20cefbf43f799bf3155882043a"
   },
   "source": [
    "*It is rational idea to use the* **BigQueryHelper.head()** *method to check just the first couple of rows of of the table to ensure that the schema provides an accurate description of the data.* "
   ]
  },
  {
   "cell_type": "code",
   "execution_count": 14,
   "metadata": {
    "_uuid": "3b2688bef4f37995543464b034a211957fbf69f1"
   },
   "outputs": [
    {
     "data": {
      "text/html": [
       "<div>\n",
       "<style>\n",
       "    .dataframe thead tr:only-child th {\n",
       "        text-align: right;\n",
       "    }\n",
       "\n",
       "    .dataframe thead th {\n",
       "        text-align: left;\n",
       "    }\n",
       "\n",
       "    .dataframe tbody tr th {\n",
       "        vertical-align: top;\n",
       "    }\n",
       "</style>\n",
       "<table border=\"1\" class=\"dataframe\">\n",
       "  <thead>\n",
       "    <tr style=\"text-align: right;\">\n",
       "      <th></th>\n",
       "      <th>block_id</th>\n",
       "      <th>previous_block</th>\n",
       "      <th>merkle_root</th>\n",
       "      <th>timestamp</th>\n",
       "      <th>difficultyTarget</th>\n",
       "      <th>nonce</th>\n",
       "      <th>version</th>\n",
       "      <th>work_terahash</th>\n",
       "      <th>work_error</th>\n",
       "      <th>transactions</th>\n",
       "      <th>row_number</th>\n",
       "    </tr>\n",
       "  </thead>\n",
       "  <tbody>\n",
       "    <tr>\n",
       "      <th>0</th>\n",
       "      <td>00000000000624650f773f70ff00a0b2aa0e8867598b37...</td>\n",
       "      <td>0000000000075dc81e47206a9b1f5f116302708b9ac057...</td>\n",
       "      <td>b1185acdb75b0317039c63643c8b385b38a9002779954e...</td>\n",
       "      <td>1291786123000</td>\n",
       "      <td>453516498</td>\n",
       "      <td>1795371736</td>\n",
       "      <td>1</td>\n",
       "      <td>346</td>\n",
       "      <td>None</td>\n",
       "      <td>[{'transaction_id': 'b1185acdb75b0317039c63643...</td>\n",
       "      <td>1</td>\n",
       "    </tr>\n",
       "    <tr>\n",
       "      <th>1</th>\n",
       "      <td>0000000000000000003fad46b5eb9470db4a9b9b9ce340...</td>\n",
       "      <td>000000000000000000b73e1edf0c4b8986c42cfc6e9b95...</td>\n",
       "      <td>4bd35f8f424d46e281152258fe112d6765d8193645a6e5...</td>\n",
       "      <td>1508242377000</td>\n",
       "      <td>402713392</td>\n",
       "      <td>432025570</td>\n",
       "      <td>536870912</td>\n",
       "      <td>51402639154</td>\n",
       "      <td>None</td>\n",
       "      <td>[{'transaction_id': '91d74e79d448149b2c1dbaad9...</td>\n",
       "      <td>1</td>\n",
       "    </tr>\n",
       "    <tr>\n",
       "      <th>2</th>\n",
       "      <td>000000000000000000fb5c0704b121a50e67d19e4d75af...</td>\n",
       "      <td>0000000000000000038ec225a6681432948e42bc380937...</td>\n",
       "      <td>11694d73107e5d41a03db489578f3a2305b0e23957f405...</td>\n",
       "      <td>1466751452000</td>\n",
       "      <td>402997206</td>\n",
       "      <td>1455798162</td>\n",
       "      <td>536870912</td>\n",
       "      <td>8996081931</td>\n",
       "      <td>None</td>\n",
       "      <td>[{'transaction_id': 'fdce92f9b3f30c75b22263df9...</td>\n",
       "      <td>1</td>\n",
       "    </tr>\n",
       "    <tr>\n",
       "      <th>3</th>\n",
       "      <td>0000000000000053f5f896698d8365d4ec4d2a1a62b58c...</td>\n",
       "      <td>00000000000000259b4ed3cdb1d49bd80dab34d1ad6e04...</td>\n",
       "      <td>03f17ea9a383030496ff622acc98f8221fe87c6071cefa...</td>\n",
       "      <td>1377115842000</td>\n",
       "      <td>424970034</td>\n",
       "      <td>1544952681</td>\n",
       "      <td>2</td>\n",
       "      <td>2182320</td>\n",
       "      <td>None</td>\n",
       "      <td>[{'transaction_id': 'db51fc6187c1568cf9fec8290...</td>\n",
       "      <td>1</td>\n",
       "    </tr>\n",
       "    <tr>\n",
       "      <th>4</th>\n",
       "      <td>000000004d8585936540f646914594ad70ddad44bc4c0f...</td>\n",
       "      <td>000000001157b6fec71f01ee523481b419a044aeaa32fd...</td>\n",
       "      <td>33bf212302d10a0748bf51014ee3b6c69cb96e7d811fe6...</td>\n",
       "      <td>1265665837000</td>\n",
       "      <td>486575299</td>\n",
       "      <td>32303200</td>\n",
       "      <td>1</td>\n",
       "      <td>0</td>\n",
       "      <td>None</td>\n",
       "      <td>[{'transaction_id': '33bf212302d10a0748bf51014...</td>\n",
       "      <td>1</td>\n",
       "    </tr>\n",
       "  </tbody>\n",
       "</table>\n",
       "</div>"
      ],
      "text/plain": [
       "                                            block_id  \\\n",
       "0  00000000000624650f773f70ff00a0b2aa0e8867598b37...   \n",
       "1  0000000000000000003fad46b5eb9470db4a9b9b9ce340...   \n",
       "2  000000000000000000fb5c0704b121a50e67d19e4d75af...   \n",
       "3  0000000000000053f5f896698d8365d4ec4d2a1a62b58c...   \n",
       "4  000000004d8585936540f646914594ad70ddad44bc4c0f...   \n",
       "\n",
       "                                      previous_block  \\\n",
       "0  0000000000075dc81e47206a9b1f5f116302708b9ac057...   \n",
       "1  000000000000000000b73e1edf0c4b8986c42cfc6e9b95...   \n",
       "2  0000000000000000038ec225a6681432948e42bc380937...   \n",
       "3  00000000000000259b4ed3cdb1d49bd80dab34d1ad6e04...   \n",
       "4  000000001157b6fec71f01ee523481b419a044aeaa32fd...   \n",
       "\n",
       "                                         merkle_root      timestamp  \\\n",
       "0  b1185acdb75b0317039c63643c8b385b38a9002779954e...  1291786123000   \n",
       "1  4bd35f8f424d46e281152258fe112d6765d8193645a6e5...  1508242377000   \n",
       "2  11694d73107e5d41a03db489578f3a2305b0e23957f405...  1466751452000   \n",
       "3  03f17ea9a383030496ff622acc98f8221fe87c6071cefa...  1377115842000   \n",
       "4  33bf212302d10a0748bf51014ee3b6c69cb96e7d811fe6...  1265665837000   \n",
       "\n",
       "   difficultyTarget       nonce    version  work_terahash work_error  \\\n",
       "0         453516498  1795371736          1            346       None   \n",
       "1         402713392   432025570  536870912    51402639154       None   \n",
       "2         402997206  1455798162  536870912     8996081931       None   \n",
       "3         424970034  1544952681          2        2182320       None   \n",
       "4         486575299    32303200          1              0       None   \n",
       "\n",
       "                                        transactions  row_number  \n",
       "0  [{'transaction_id': 'b1185acdb75b0317039c63643...           1  \n",
       "1  [{'transaction_id': '91d74e79d448149b2c1dbaad9...           1  \n",
       "2  [{'transaction_id': 'fdce92f9b3f30c75b22263df9...           1  \n",
       "3  [{'transaction_id': 'db51fc6187c1568cf9fec8290...           1  \n",
       "4  [{'transaction_id': '33bf212302d10a0748bf51014...           1  "
      ]
     },
     "execution_count": 14,
     "metadata": {},
     "output_type": "execute_result"
    }
   ],
   "source": [
    "# preview the first couple lines of the \"blocks\" table\n",
    "bitcoin_blockchain.head(\"blocks\")"
   ]
  },
  {
   "cell_type": "code",
   "execution_count": 23,
   "metadata": {
    "_uuid": "e1926d4938be47de711b8f153d1540f5640e39c6"
   },
   "outputs": [
    {
     "data": {
      "text/html": [
       "<div>\n",
       "<style>\n",
       "    .dataframe thead tr:only-child th {\n",
       "        text-align: right;\n",
       "    }\n",
       "\n",
       "    .dataframe thead th {\n",
       "        text-align: left;\n",
       "    }\n",
       "\n",
       "    .dataframe tbody tr th {\n",
       "        vertical-align: top;\n",
       "    }\n",
       "</style>\n",
       "<table border=\"1\" class=\"dataframe\">\n",
       "  <thead>\n",
       "    <tr style=\"text-align: right;\">\n",
       "      <th></th>\n",
       "      <th>work_error</th>\n",
       "    </tr>\n",
       "  </thead>\n",
       "  <tbody>\n",
       "    <tr>\n",
       "      <th>0</th>\n",
       "      <td>None</td>\n",
       "    </tr>\n",
       "    <tr>\n",
       "      <th>1</th>\n",
       "      <td>None</td>\n",
       "    </tr>\n",
       "    <tr>\n",
       "      <th>2</th>\n",
       "      <td>None</td>\n",
       "    </tr>\n",
       "    <tr>\n",
       "      <th>3</th>\n",
       "      <td>None</td>\n",
       "    </tr>\n",
       "    <tr>\n",
       "      <th>4</th>\n",
       "      <td>None</td>\n",
       "    </tr>\n",
       "    <tr>\n",
       "      <th>5</th>\n",
       "      <td>None</td>\n",
       "    </tr>\n",
       "    <tr>\n",
       "      <th>6</th>\n",
       "      <td>None</td>\n",
       "    </tr>\n",
       "    <tr>\n",
       "      <th>7</th>\n",
       "      <td>None</td>\n",
       "    </tr>\n",
       "    <tr>\n",
       "      <th>8</th>\n",
       "      <td>None</td>\n",
       "    </tr>\n",
       "    <tr>\n",
       "      <th>9</th>\n",
       "      <td>None</td>\n",
       "    </tr>\n",
       "  </tbody>\n",
       "</table>\n",
       "</div>"
      ],
      "text/plain": [
       "  work_error\n",
       "0       None\n",
       "1       None\n",
       "2       None\n",
       "3       None\n",
       "4       None\n",
       "5       None\n",
       "6       None\n",
       "7       None\n",
       "8       None\n",
       "9       None"
      ]
     },
     "execution_count": 23,
     "metadata": {},
     "output_type": "execute_result"
    }
   ],
   "source": [
    "# To see the first 10 entries in the \"transactions\" column in the blocks table\n",
    "bitcoin_blockchain.head(\"blocks\", selected_columns = \"work_error\", num_rows = 10)"
   ]
  },
  {
   "cell_type": "markdown",
   "metadata": {
    "_uuid": "f5214bd2250aad65f61b9bde148c3d673b736828"
   },
   "source": [
    "* ### Check the size of the query before actually running it\n",
    "*A query is small piece of SQL code that specifies what data would be scanned from a database, and what size of the data would be returned. <br>\n",
    "To avoid scanning/ downloading the unexpectedly huge amount of data, the* **BigQueryHelper.estimate_query_size()** *method can help to estimate the size of the dataset.*"
   ]
  },
  {
   "cell_type": "code",
   "execution_count": 26,
   "metadata": {
    "_uuid": "ed9566e6754dacf315ea0985a996b6c50db04cd8"
   },
   "outputs": [
    {
     "data": {
      "text/plain": [
       "0.007586613297462463"
      ]
     },
     "execution_count": 26,
     "metadata": {},
     "output_type": "execute_result"
    }
   ],
   "source": [
    "# this query looks in the \"blocks\" table in the bitcoin_blockchain dataset, \n",
    "# then gets the score column from every row where the \"tow_number\" column is 1.\n",
    "\n",
    "query = \"\"\"SELECT difficultyTarget\n",
    "            FROM `bigquery-public-data.bitcoin_blockchain.blocks`\n",
    "            WHERE row_number = 1 \"\"\"\n",
    "\n",
    "# check how big this query will be\n",
    "bitcoin_blockchain.estimate_query_size(query)"
   ]
  },
  {
   "cell_type": "markdown",
   "metadata": {
    "_uuid": "1ed8650d036dd900f09d4e0a5df48f9d1d565cfa"
   },
   "source": [
    "*Running this query will take around 7.6 MB. (The query size is returned in gigabytes.)*"
   ]
  },
  {
   "cell_type": "markdown",
   "metadata": {
    "_uuid": "5abf308d6eb3b02cf481be7e0ba9806b58075437"
   },
   "source": [
    "*Now we know how to check the size of the query (and make sure we're not scanning several terabytes of data!)  <br>\n",
    "And we are ready to run some queries.  There are two methods that would be helpful: <br>*\n",
    "* **BigQueryHelper.query_to_pandas(query)**: This method takes a query and returns a Pandas dataframe.\n",
    "* **BigQueryHelper.query_to_pandas_safe(query, max_gb_scanned=1)**: This method takes a query and returns a Pandas dataframe only if the size of the query is less than the upperSizeLimit (1 gigabyte by default)."
   ]
  },
  {
   "cell_type": "code",
   "execution_count": 29,
   "metadata": {
    "_uuid": "70efcba40866a5eec7a3f05577d920b7f1eb96c3"
   },
   "outputs": [
    {
     "name": "stdout",
     "output_type": "stream",
     "text": [
      "Query cancelled; estimated size of 0.007586628198623657 exceeds limit of 0.005 GB\n"
     ]
    }
   ],
   "source": [
    "# only run this query if it's less than 100 MB\n",
    "bitcoin_blockchain.query_to_pandas_safe(query, max_gb_scanned=0.005)"
   ]
  },
  {
   "cell_type": "code",
   "execution_count": 30,
   "metadata": {
    "_uuid": "96cf836866014ebcd7a652ea9ea775bd95856f55",
    "collapsed": true
   },
   "outputs": [],
   "source": [
    "#Alternatively, check out the scores of job postings (if the \n",
    "# query is smaller than 1 gig)\n",
    "job_post = bitcoin_blockchain.query_to_pandas_safe(query)"
   ]
  },
  {
   "cell_type": "markdown",
   "metadata": {
    "_uuid": "c7d39b4e4c676e5cfb015add3a800bc36e838c1b"
   },
   "source": [
    "*Since this has returned a dataframe, we can work with it as we would any other dataframe. For example, we can get the mean of the column:*"
   ]
  },
  {
   "cell_type": "code",
   "execution_count": 31,
   "metadata": {
    "_uuid": "fe359313b238be4eec3730de956af9040cb09574"
   },
   "outputs": [
    {
     "data": {
      "text/plain": [
       "difficultyTarget    4.296141e+08\n",
       "dtype: float64"
      ]
     },
     "execution_count": 31,
     "metadata": {},
     "output_type": "execute_result"
    }
   ],
   "source": [
    "# average score for job posts\n",
    "job_post.mean()"
   ]
  },
  {
   "cell_type": "markdown",
   "metadata": {
    "_uuid": "16e17ed86f4891435269eea2ce71672039034f38"
   },
   "source": [
    "* ### Save the data from your query as a .csv \n",
    "*Now we've a dataframe and may like to save it  as a .csv to use later.. To do this, we can use the following code, which will write our dataframe to a file called \"job_post.csv\" in the output directory.*"
   ]
  },
  {
   "cell_type": "code",
   "execution_count": null,
   "metadata": {
    "_uuid": "6a44d6829c9d394f6883bc3137348065eab52a96",
    "collapsed": true
   },
   "outputs": [],
   "source": [
    "# save our dataframe as a .csv \n",
    "job_post.to_csv(\"job_post.csv\")"
   ]
  },
  {
   "cell_type": "code",
   "execution_count": null,
   "metadata": {
    "_uuid": "1165413c27afefcef52ab22301bf9b422de2f5c4",
    "collapsed": true
   },
   "outputs": [],
   "source": []
  }
 ],
 "metadata": {
  "kernelspec": {
   "display_name": "Python 3",
   "language": "python",
   "name": "python3"
  },
  "language_info": {
   "codemirror_mode": {
    "name": "ipython",
    "version": 3
   },
   "file_extension": ".py",
   "mimetype": "text/x-python",
   "name": "python",
   "nbconvert_exporter": "python",
   "pygments_lexer": "ipython3",
   "version": "3.6.0"
  }
 },
 "nbformat": 4,
 "nbformat_minor": 1
}
